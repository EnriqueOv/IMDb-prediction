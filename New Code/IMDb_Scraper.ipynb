{
  "cells": [
    {
      "cell_type": "code",
      "execution_count": null,
      "metadata": {
        "id": "0tR7H1TSCnby"
      },
      "outputs": [],
      "source": [
        "from bs4 import BeautifulSoup\n",
        "import pandas as pd\n",
        "import requests"
      ]
    },
    {
      "cell_type": "code",
      "execution_count": null,
      "metadata": {
        "id": "4RRz4lvkCwb7"
      },
      "outputs": [],
      "source": [
        "#Scrapes IMDb website\n",
        "#categories is just used to scrape pages\n",
        "categories = ['Action', 'Drama', 'Crime', 'Adventure', 'Comedy', 'Romance','Horror','Animation','History','Western','Family']#,'War','Mystery','Western','History','Family','Animation','Sport','Film-Noir','Musical',]\n",
        "#arrays for dataframe columns\n",
        "summaries = []\n",
        "genre1 = []\n",
        "genre2 = []\n",
        "genre3 = []\n",
        "titles = []\n",
        "ratingavgs = []\n",
        "ratings = []\n",
        "y = 1 #just for counting the amount of movies \n",
        "pagenum = input(\"Enter the number of pages to search through (Note: Every page is 1050 entries, but there may not be 1050 entries x pages in the finalized dataset): \")\n",
        "count = int(input(\"What should be the max count of genre?: \"))\n",
        "\n",
        "#categories for scraping pages of \"genres\" listed\n",
        "for category in categories:\n",
        "\n",
        "  URL = f\"https://www.imdb.com/search/title/?title_type=feature&genres={category}&start=1\"\n",
        "\n",
        "  for i in range(int(pagenum)):\n",
        "    headers = {'Accept-Language': 'en-US,en;q=0.8'} #do this so it doesn't get Chinese imdb info\n",
        "    page = requests.get(URL, headers = headers)\n",
        "    soup = BeautifulSoup(page.content, \"html.parser\")\n",
        "    movies = soup.find_all('div', class_=\"lister-item-content\")\n",
        "\n",
        "    #Parses through the blocks of movie titles\n",
        "    for movie in movies:\n",
        "      title = movie.find('h3', class_=\"lister-item-header\")\n",
        "      title = title.text.strip().split(\"\\n\")[1]\n",
        "\n",
        "      ratingavg = movie.find('div', class_=\"inline-block ratings-imdb-rating\")\n",
        "\n",
        "      genre = movie.find('span', class_=\"genre\")\n",
        "      genrelist = genre.text.strip().replace(' ','').split(\",\")\n",
        "      votes = movie.find('p', class_=\"sort-num_votes-visible\")\n",
        "\n",
        "\n",
        "      #Checks and avoids duplicates and no ratings\n",
        "      if (title not in titles) and (votes != None) and (ratingavg != None) and (genre1.count(genrelist[0]) < count):\n",
        "\n",
        "        #if maxamount == True;\n",
        "\n",
        "        titles.append(title)\n",
        "\n",
        "        #Scrapes the rating\n",
        "        #ratingavg = movie.find('div', class_=\"inline-block ratings-imdb-rating\")\n",
        "        ratingavg = ratingavg.find('strong').text.strip()\n",
        "        ratingavgs.append(ratingavg)\n",
        "\n",
        "        #Scrapes amount of ratings\n",
        "        votes = movie.find('p', class_=\"sort-num_votes-visible\").find_all('span')[1]\n",
        "        votes = votes.text.split()\n",
        "        ratings.append(int(votes[0].replace(',','')))\n",
        "\n",
        "        #Scrapes the genre\n",
        "        #genre = movie.find('span', class_=\"genre\")\n",
        "        #genrelist = genre.text.strip().replace(' ','').split(\",\")\n",
        "        genre1.append(genrelist[0])\n",
        "\n",
        "        #If there's only 1 genre, make the 2nd genre blank\n",
        "        if len(genrelist) > 1:\n",
        "          genre2.append(genrelist[1])\n",
        "        else:\n",
        "          genre2.append(\" \")\n",
        "\n",
        "        #If there's only 2 genres, make the 3rd genre blank\n",
        "        if len(genrelist) > 2:\n",
        "          genre3.append(genrelist[2])\n",
        "        else:\n",
        "          genre3.append(\" \")\n",
        "\n",
        "        print(f'{y}: {title}')\n",
        "        y = y + 1\n",
        "\n",
        "        #theres multiple of the same class name so find_all instead of find\n",
        "        summary = movie.find_all('p', class_=\"text-muted\")[1]\n",
        "        summaries.append(summary.text.strip())\n",
        "\n",
        "        nextpage = soup.find('a', class_='lister-page-next next-page')\n",
        "        #print(test['href'])\n",
        "        URL = 'https://www.imdb.com' + nextpage['href']\n",
        "\n",
        "\n",
        "\n",
        "\n",
        "#Creates dataframe\n",
        "dfzip = list(zip(titles, summaries, genre1, genre2, genre3, ratingavgs, ratings))\n",
        "movieset = pd.DataFrame(dfzip, columns = ['titles', 'summaries','genre1', 'genre2', 'genre3', 'average rating','num of ratings'])\n",
        "movieset.to_csv(\"movieset.csv\", index = False)"
      ]
    },
    {
      "cell_type": "code",
      "execution_count": null,
      "metadata": {
        "id": "S9XxKUunzdTu"
      },
      "outputs": [],
      "source": [
        "movieset['genre1'].value_counts()"
      ]
    }
  ],
  "metadata": {
    "colab": {
      "name": "IMDb Scraper",
      "provenance": []
    },
    "kernelspec": {
      "display_name": "Python 3",
      "name": "python3"
    },
    "language_info": {
      "name": "python"
    }
  },
  "nbformat": 4,
  "nbformat_minor": 0
}